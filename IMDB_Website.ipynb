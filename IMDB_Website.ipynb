{
 "cells": [
  {
   "cell_type": "code",
   "execution_count": null,
   "id": "7ef69c21",
   "metadata": {},
   "outputs": [],
   "source": [
    "# Interdit de faire du scrapping sur IMDB (erreur 403).\n",
    "# Utilisation du site allociné à la place"
   ]
  },
  {
   "cell_type": "code",
   "execution_count": 13,
   "id": "9f50dc5f",
   "metadata": {},
   "outputs": [],
   "source": [
    "import requests\n",
    "from bs4 import BeautifulSoup"
   ]
  },
  {
   "cell_type": "code",
   "execution_count": 22,
   "id": "9a24dcc9",
   "metadata": {},
   "outputs": [],
   "source": [
    "url = \"https://www.allocine.fr/film/meilleurs/\""
   ]
  },
  {
   "cell_type": "code",
   "execution_count": 23,
   "id": "24aa60b9",
   "metadata": {},
   "outputs": [
    {
     "name": "stdout",
     "output_type": "stream",
     "text": [
      "<Response [200]>\n"
     ]
    }
   ],
   "source": [
    "res = requests.get(url)\n",
    "print(res)"
   ]
  },
  {
   "cell_type": "code",
   "execution_count": 24,
   "id": "4314e41a",
   "metadata": {},
   "outputs": [],
   "source": [
    "soup = BeautifulSoup(res.text, 'lxml')"
   ]
  },
  {
   "cell_type": "code",
   "execution_count": 28,
   "id": "b0b7ed11",
   "metadata": {},
   "outputs": [
    {
     "name": "stdout",
     "output_type": "stream",
     "text": [
      "[<h2 class=\"meta-title\">\n",
      "<a class=\"meta-title-link\" href=\"/film/fichefilm_gen_cfilm=10568.html\">Forrest Gump</a>\n",
      "</h2>, <h2 class=\"meta-title\">\n",
      "<a class=\"meta-title-link\" href=\"/film/fichefilm_gen_cfilm=9393.html\">La Liste de Schindler</a>\n",
      "</h2>, <h2 class=\"meta-title\">\n",
      "<a class=\"meta-title-link\" href=\"/film/fichefilm_gen_cfilm=22779.html\">La Ligne verte</a>\n",
      "</h2>, <h2 class=\"meta-title\">\n",
      "<a class=\"meta-title-link\" href=\"/film/fichefilm_gen_cfilm=4063.html\">12 hommes en colère</a>\n",
      "</h2>, <h2 class=\"meta-title\">\n",
      "<a class=\"meta-title-link\" href=\"/film/fichefilm_gen_cfilm=1628.html\">Le Parrain</a>\n",
      "</h2>, <h2 class=\"meta-title\">\n",
      "<a class=\"meta-title-link\" href=\"/film/fichefilm_gen_cfilm=11736.html\">Les Evadés</a>\n",
      "</h2>, <h2 class=\"meta-title\">\n",
      "<a class=\"meta-title-link\" href=\"/film/fichefilm_gen_cfilm=39187.html\">Le Seigneur des anneaux : le retour du roi</a>\n",
      "</h2>, <h2 class=\"meta-title\">\n",
      "<a class=\"meta-title-link\" href=\"/film/fichefilm_gen_cfilm=10862.html\">Le Roi Lion</a>\n",
      "</h2>, <h2 class=\"meta-title\">\n",
      "<a class=\"meta-title-link\" href=\"/film/fichefilm_gen_cfilm=2072.html\">Vol au-dessus d'un nid de coucou</a>\n",
      "</h2>, <h2 class=\"meta-title\">\n",
      "<a class=\"meta-title-link\" href=\"/film/fichefilm_gen_cfilm=115362.html\">The Dark Knight, Le Chevalier Noir</a>\n",
      "</h2>]\n"
     ]
    }
   ],
   "source": [
    "films = soup.select(\"li h2\")\n",
    "print(films)"
   ]
  },
  {
   "cell_type": "code",
   "execution_count": 38,
   "id": "50dad913",
   "metadata": {},
   "outputs": [
    {
     "name": "stdout",
     "output_type": "stream",
     "text": [
      "['Forrest Gump', 'La Liste de Schindler', 'La Ligne verte', '12 hommes en colère', 'Le Parrain', 'Les Evadés', 'Le Seigneur des anneaux : le retour du roi', 'Le Roi Lion', \"Vol au-dessus d'un nid de coucou\", 'The Dark Knight, Le Chevalier Noir']\n"
     ]
    }
   ],
   "source": [
    "topFilms = [film.text[1:][0:-1] for film in films]\n",
    "print(topFilms)"
   ]
  },
  {
   "cell_type": "code",
   "execution_count": 39,
   "id": "3eb88f00",
   "metadata": {},
   "outputs": [
    {
     "name": "stdout",
     "output_type": "stream",
     "text": [
      "1) Forrest Gump\n",
      "2) La Liste de Schindler\n",
      "3) La Ligne verte\n",
      "4) 12 hommes en colère\n",
      "5) Le Parrain\n",
      "6) Les Evadés\n",
      "7) Le Seigneur des anneaux : le retour du roi\n",
      "8) Le Roi Lion\n",
      "9) Vol au-dessus d'un nid de coucou\n",
      "10) The Dark Knight, Le Chevalier Noir\n"
     ]
    }
   ],
   "source": [
    "i = 0\n",
    "for Film in topFilms:\n",
    "    i = i + 1\n",
    "    print(f\"{i}) {Film}\")"
   ]
  },
  {
   "cell_type": "code",
   "execution_count": 40,
   "id": "d3541f0c",
   "metadata": {},
   "outputs": [
    {
     "name": "stdout",
     "output_type": "stream",
     "text": [
      "[<span class=\"stareval-note\">2,6</span>, <span class=\"stareval-note\">4,6</span>, <span class=\"stareval-note no-rating\">--</span>, <span class=\"stareval-note\">4,2</span>, <span class=\"stareval-note\">4,6</span>, <span class=\"stareval-note no-rating\">--</span>, <span class=\"stareval-note\">2,8</span>, <span class=\"stareval-note\">4,6</span>, <span class=\"stareval-note no-rating\">--</span>, <span class=\"stareval-note\">5,0</span>, <span class=\"stareval-note\">4,6</span>, <span class=\"stareval-note no-rating\">--</span>, <span class=\"stareval-note\">4,6</span>, <span class=\"stareval-note\">4,5</span>, <span class=\"stareval-note no-rating\">--</span>, <span class=\"stareval-note\">3,2</span>, <span class=\"stareval-note\">4,5</span>, <span class=\"stareval-note no-rating\">--</span>, <span class=\"stareval-note\">3,8</span>, <span class=\"stareval-note\">4,5</span>, <span class=\"stareval-note no-rating\">--</span>, <span class=\"stareval-note\">3,4</span>, <span class=\"stareval-note\">4,5</span>, <span class=\"stareval-note no-rating\">--</span>, <span class=\"stareval-note\">5,0</span>, <span class=\"stareval-note\">4,5</span>, <span class=\"stareval-note no-rating\">--</span>, <span class=\"stareval-note\">4,0</span>, <span class=\"stareval-note\">4,5</span>, <span class=\"stareval-note no-rating\">--</span>]\n"
     ]
    }
   ],
   "source": [
    "ratings = soup.select(\".rating-item-content .stareval-note\")\n",
    "print(ratings)"
   ]
  },
  {
   "cell_type": "code",
   "execution_count": 41,
   "id": "82ef0330",
   "metadata": {},
   "outputs": [
    {
     "name": "stdout",
     "output_type": "stream",
     "text": [
      "['2,6', '4,6', '--', '4,2', '4,6', '--', '2,8', '4,6', '--', '5,0', '4,6', '--', '4,6', '4,5', '--', '3,2', '4,5', '--', '3,8', '4,5', '--', '3,4', '4,5', '--', '5,0', '4,5', '--', '4,0', '4,5', '--']\n"
     ]
    }
   ],
   "source": [
    "topRatings = [rating.text for rating in ratings]\n",
    "print(topRatings)"
   ]
  },
  {
   "cell_type": "code",
   "execution_count": 43,
   "id": "bd40adc0",
   "metadata": {},
   "outputs": [
    {
     "name": "stdout",
     "output_type": "stream",
     "text": [
      "['2,6', '4,2', '2,8', '5,0', '4,6', '3,2', '3,8', '3,4', '5,0', '4,0']\n",
      "['4,6', '4,6', '4,6', '4,6', '4,5', '4,5', '4,5', '4,5', '4,5', '4,5']\n"
     ]
    }
   ],
   "source": [
    "notePresse = []\n",
    "notePublic = []\n",
    "\n",
    "# Parcourir la liste initiale avec un pas de 3\n",
    "for i in range(0, len(topRatings), 3):\n",
    "    notePresse.append(topRatings[i])\n",
    "\n",
    "for i in range(1, len(topRatings), 3):\n",
    "    notePublic.append(topRatings[i])\n",
    "    \n",
    "print(notePresse)  \n",
    "print(notePublic)"
   ]
  },
  {
   "cell_type": "code",
   "execution_count": 48,
   "id": "a2542165",
   "metadata": {},
   "outputs": [
    {
     "name": "stdout",
     "output_type": "stream",
     "text": [
      "1) Forrest Gump || Note Presse : 2,6 || Note Public : 4,6\n",
      "2) La Liste de Schindler || Note Presse : 4,2 || Note Public : 4,6\n",
      "3) La Ligne verte || Note Presse : 2,8 || Note Public : 4,6\n",
      "4) 12 hommes en colère || Note Presse : 5,0 || Note Public : 4,6\n",
      "5) Le Parrain || Note Presse : 4,6 || Note Public : 4,5\n",
      "6) Les Evadés || Note Presse : 3,2 || Note Public : 4,5\n",
      "7) Le Seigneur des anneaux : le retour du roi || Note Presse : 3,8 || Note Public : 4,5\n",
      "8) Le Roi Lion || Note Presse : 3,4 || Note Public : 4,5\n",
      "9) Vol au-dessus d'un nid de coucou || Note Presse : 5,0 || Note Public : 4,5\n",
      "10) The Dark Knight, Le Chevalier Noir || Note Presse : 4,0 || Note Public : 4,5\n"
     ]
    }
   ],
   "source": [
    "i = 0\n",
    "for elem1, elem2, elem3 in zip(topFilms, notePresse, notePublic):\n",
    "    i = i + 1\n",
    "    phrase = f\"{i}) {elem1} || Note Presse : {elem2} || Note Public : {elem3}\"\n",
    "    print(phrase)"
   ]
  }
 ],
 "metadata": {
  "kernelspec": {
   "display_name": "Python 3 (ipykernel)",
   "language": "python",
   "name": "python3"
  },
  "language_info": {
   "codemirror_mode": {
    "name": "ipython",
    "version": 3
   },
   "file_extension": ".py",
   "mimetype": "text/x-python",
   "name": "python",
   "nbconvert_exporter": "python",
   "pygments_lexer": "ipython3",
   "version": "3.11.5"
  }
 },
 "nbformat": 4,
 "nbformat_minor": 5
}
