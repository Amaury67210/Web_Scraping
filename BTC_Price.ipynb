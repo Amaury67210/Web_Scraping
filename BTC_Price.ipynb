{
 "cells": [
  {
   "cell_type": "code",
   "execution_count": 1,
   "id": "2e8f94d2",
   "metadata": {},
   "outputs": [],
   "source": [
    "import requests\n",
    "from bs4 import BeautifulSoup"
   ]
  },
  {
   "cell_type": "code",
   "execution_count": 2,
   "id": "ef253b58",
   "metadata": {},
   "outputs": [],
   "source": [
    "url = \"https://www.binance.com/fr/price/bitcoin\""
   ]
  },
  {
   "cell_type": "code",
   "execution_count": 3,
   "id": "f7dde721",
   "metadata": {},
   "outputs": [
    {
     "name": "stdout",
     "output_type": "stream",
     "text": [
      "<Response [200]>\n"
     ]
    }
   ],
   "source": [
    "res = requests.get(url)\n",
    "print(res)"
   ]
  },
  {
   "cell_type": "code",
   "execution_count": 4,
   "id": "16f30b69",
   "metadata": {},
   "outputs": [],
   "source": [
    "soup = BeautifulSoup(res.text, 'lxml')"
   ]
  },
  {
   "cell_type": "code",
   "execution_count": 8,
   "id": "906bde4b",
   "metadata": {},
   "outputs": [
    {
     "name": "stdout",
     "output_type": "stream",
     "text": [
      "USD $42,915.91\n"
     ]
    }
   ],
   "source": [
    "BTC_price = soup.select(\".css-dbxihu\")\n",
    "print(BTC_price[0].text)"
   ]
  },
  {
   "cell_type": "code",
   "execution_count": 11,
   "id": "d6961303",
   "metadata": {},
   "outputs": [
    {
     "name": "stdout",
     "output_type": "stream",
     "text": [
      "42915.91\n"
     ]
    }
   ],
   "source": [
    "actual_price = BTC_price[0].text[5:]\n",
    "actual_price = actual_price.replace(\",\",\"\")\n",
    "print(actual_price)"
   ]
  },
  {
   "cell_type": "code",
   "execution_count": 13,
   "id": "2a4b66c5",
   "metadata": {},
   "outputs": [],
   "source": [
    "actual_price_float = float(actual_price)"
   ]
  },
  {
   "cell_type": "code",
   "execution_count": 14,
   "id": "15a9ef2a",
   "metadata": {},
   "outputs": [
    {
     "name": "stdout",
     "output_type": "stream",
     "text": [
      "The price of BTC is over your budget !\n"
     ]
    }
   ],
   "source": [
    "myPrice = 1000\n",
    "if actual_price_float < myPrice:\n",
    "    print(\"The price of BTC is below your budget !\")\n",
    "else:\n",
    "    print(\"The price of BTC is over your budget !\")"
   ]
  },
  {
   "cell_type": "code",
   "execution_count": null,
   "id": "94588b98",
   "metadata": {},
   "outputs": [],
   "source": []
  }
 ],
 "metadata": {
  "kernelspec": {
   "display_name": "Python 3 (ipykernel)",
   "language": "python",
   "name": "python3"
  },
  "language_info": {
   "codemirror_mode": {
    "name": "ipython",
    "version": 3
   },
   "file_extension": ".py",
   "mimetype": "text/x-python",
   "name": "python",
   "nbconvert_exporter": "python",
   "pygments_lexer": "ipython3",
   "version": "3.11.5"
  }
 },
 "nbformat": 4,
 "nbformat_minor": 5
}
