{
 "cells": [
  {
   "cell_type": "code",
   "execution_count": 1,
   "id": "64fde956",
   "metadata": {},
   "outputs": [],
   "source": [
    "import requests\n",
    "from bs4 import BeautifulSoup"
   ]
  },
  {
   "cell_type": "code",
   "execution_count": 2,
   "id": "33a76f2c",
   "metadata": {},
   "outputs": [],
   "source": [
    "url = \"https://www.ebay.fr/itm/285563225354?hash=item427ce5050a:g:1uAAAOSweI1lVz1p&amdata=enc%3AAQAIAAAA4O%2F41ZOj45L9oqApOwMJh%2F%2BHuhT1ep0NGBZQbnNNrA4yyo0Y8Owpg6Oh2yUldzWCTQKvOPb%2FpCLFXmVSvpZqR69VhJlntVexEKSH08Fm3wa67r2CynEdMll3oO0LoXwD%2FCDYH%2BAAPvpp6QwR03eTbadFkuDyMt98XItFgCkdIeHsMyh5DddhQRcG3xpyO7mjXM07efW9I8VXuEbyXIg64g%2Fi3KvUwAuxcx9YwzJ36DJVjQ%2FK7zCgEV7%2FF%2BsgNXJDX1wCy45%2BvQCvgWgNtISpwz7o7UllgyzPsDR3934MYci6%7Ctkp%3ABFBMsPKp2Y1j\""
   ]
  },
  {
   "cell_type": "code",
   "execution_count": 3,
   "id": "4da84639",
   "metadata": {},
   "outputs": [
    {
     "name": "stdout",
     "output_type": "stream",
     "text": [
      "<Response [200]>\n"
     ]
    }
   ],
   "source": [
    "res = requests.get(url)\n",
    "print(res)"
   ]
  },
  {
   "cell_type": "code",
   "execution_count": 4,
   "id": "5e074a27",
   "metadata": {},
   "outputs": [],
   "source": [
    "soup = BeautifulSoup(res.text, 'lxml')"
   ]
  },
  {
   "cell_type": "code",
   "execution_count": 11,
   "id": "730621b3",
   "metadata": {},
   "outputs": [
    {
     "name": "stdout",
     "output_type": "stream",
     "text": [
      "[<span class=\"ux-textspans\">512,00 EUR</span>]\n",
      "512,00 EUR\n"
     ]
    }
   ],
   "source": [
    "unedited = soup.select(\".x-price-primary > .ux-textspans\")\n",
    "print(unedited)\n",
    "uneditedPrice = unedited[0]\n",
    "print(uneditedPrice.text)\n",
    "uneditedPrice = uneditedPrice.text"
   ]
  },
  {
   "cell_type": "code",
   "execution_count": 32,
   "id": "b2d52675",
   "metadata": {},
   "outputs": [
    {
     "name": "stdout",
     "output_type": "stream",
     "text": [
      "512.00 \n"
     ]
    }
   ],
   "source": [
    "formattedPrice = uneditedPrice[:7]\n",
    "formattedPrice = formattedPrice.replace(\",\",\".\")\n",
    "print(formattedPrice)"
   ]
  },
  {
   "cell_type": "code",
   "execution_count": 33,
   "id": "dc6639ec",
   "metadata": {},
   "outputs": [
    {
     "name": "stdout",
     "output_type": "stream",
     "text": [
      "512.0\n"
     ]
    }
   ],
   "source": [
    "actual_price = float(formattedPrice)\n",
    "print(actual_price)"
   ]
  },
  {
   "cell_type": "code",
   "execution_count": 22,
   "id": "cb52d868",
   "metadata": {},
   "outputs": [
    {
     "name": "stdout",
     "output_type": "stream",
     "text": [
      "The price is over your budget !\n"
     ]
    }
   ],
   "source": [
    "myPrice = 300\n",
    "if actual_price < myPrice:\n",
    "    print(\"The price is below your budget !\")\n",
    "else:\n",
    "    print(\"The price is over your budget !\")"
   ]
  }
 ],
 "metadata": {
  "kernelspec": {
   "display_name": "Python 3 (ipykernel)",
   "language": "python",
   "name": "python3"
  },
  "language_info": {
   "codemirror_mode": {
    "name": "ipython",
    "version": 3
   },
   "file_extension": ".py",
   "mimetype": "text/x-python",
   "name": "python",
   "nbconvert_exporter": "python",
   "pygments_lexer": "ipython3",
   "version": "3.11.5"
  }
 },
 "nbformat": 4,
 "nbformat_minor": 5
}
